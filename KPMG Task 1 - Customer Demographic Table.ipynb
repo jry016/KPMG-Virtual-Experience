{
 "cells": [
  {
   "cell_type": "code",
   "execution_count": 1,
   "id": "7c58cec6",
   "metadata": {},
   "outputs": [],
   "source": [
    "import pandas as pd\n",
    "import numpy as np\n",
    "import matplotlib.pyplot as plt\n",
    "from datetime import datetime as dt\n",
    "from datetime import timedelta\n",
    "from matplotlib.dates import DateFormatter"
   ]
  },
  {
   "cell_type": "code",
   "execution_count": 2,
   "id": "2214e342",
   "metadata": {},
   "outputs": [
    {
     "name": "stdout",
     "output_type": "stream",
     "text": [
      "CustomerAddress_cleaned.csv\r\n",
      "CustomerDemo_cleaned.csv\r\n",
      "KPMG Task 1 - Customer Address .ipynb\r\n",
      "KPMG Task 1 - Customer Demographic Table.ipynb\r\n",
      "KPMG Task 1 - New Customers Table.ipynb\r\n",
      "KPMG Task 1 - Transactions Table.ipynb\r\n",
      "KPMG Task 1 Sample ANS .docx\r\n",
      "KPMG Task 1.docx\r\n",
      "KPMG Task 2.ipynb\r\n",
      "KPMG_VI_New_raw_data_update_final.xlsx\r\n",
      "Module_2_Template_slide.pptx\r\n",
      "Transactions_cleaned.csv\r\n",
      "~$KPMG_VI_New_raw_data_update_final.xlsx\r\n"
     ]
    }
   ],
   "source": [
    "%ls"
   ]
  },
  {
   "cell_type": "code",
   "execution_count": 3,
   "id": "156da3ff",
   "metadata": {},
   "outputs": [],
   "source": [
    "# Import Raw Data\n",
    "data = pd.ExcelFile(\"KPMG_VI_New_raw_data_update_final.xlsx\")"
   ]
  },
  {
   "cell_type": "code",
   "execution_count": 4,
   "id": "4ffe66d0",
   "metadata": {},
   "outputs": [],
   "source": [
    "# Seperate Data by Sheets\n",
    "CustomerDemo = pd.read_excel(data, 'CustomerDemographic')"
   ]
  },
  {
   "cell_type": "code",
   "execution_count": 5,
   "id": "e955c168",
   "metadata": {},
   "outputs": [],
   "source": [
    "new_header = CustomerDemo.iloc[0]\n",
    "CustomerDemo.columns = new_header\n",
    "CustomerDemo = CustomerDemo.loc[1:]"
   ]
  },
  {
   "cell_type": "code",
   "execution_count": 6,
   "id": "22edd9df",
   "metadata": {},
   "outputs": [
    {
     "data": {
      "text/html": [
       "<div>\n",
       "<style scoped>\n",
       "    .dataframe tbody tr th:only-of-type {\n",
       "        vertical-align: middle;\n",
       "    }\n",
       "\n",
       "    .dataframe tbody tr th {\n",
       "        vertical-align: top;\n",
       "    }\n",
       "\n",
       "    .dataframe thead th {\n",
       "        text-align: right;\n",
       "    }\n",
       "</style>\n",
       "<table border=\"1\" class=\"dataframe\">\n",
       "  <thead>\n",
       "    <tr style=\"text-align: right;\">\n",
       "      <th></th>\n",
       "      <th>customer_id</th>\n",
       "      <th>first_name</th>\n",
       "      <th>last_name</th>\n",
       "      <th>gender</th>\n",
       "      <th>past_3_years_bike_related_purchases</th>\n",
       "      <th>DOB</th>\n",
       "      <th>job_title</th>\n",
       "      <th>job_industry_category</th>\n",
       "      <th>wealth_segment</th>\n",
       "      <th>deceased_indicator</th>\n",
       "      <th>default</th>\n",
       "      <th>owns_car</th>\n",
       "      <th>tenure</th>\n",
       "    </tr>\n",
       "  </thead>\n",
       "  <tbody>\n",
       "    <tr>\n",
       "      <th>1</th>\n",
       "      <td>1</td>\n",
       "      <td>Laraine</td>\n",
       "      <td>Medendorp</td>\n",
       "      <td>F</td>\n",
       "      <td>93</td>\n",
       "      <td>1953-10-12 00:00:00</td>\n",
       "      <td>Executive Secretary</td>\n",
       "      <td>Health</td>\n",
       "      <td>Mass Customer</td>\n",
       "      <td>N</td>\n",
       "      <td>\"'</td>\n",
       "      <td>Yes</td>\n",
       "      <td>11</td>\n",
       "    </tr>\n",
       "    <tr>\n",
       "      <th>2</th>\n",
       "      <td>2</td>\n",
       "      <td>Eli</td>\n",
       "      <td>Bockman</td>\n",
       "      <td>Male</td>\n",
       "      <td>81</td>\n",
       "      <td>1980-12-16 00:00:00</td>\n",
       "      <td>Administrative Officer</td>\n",
       "      <td>Financial Services</td>\n",
       "      <td>Mass Customer</td>\n",
       "      <td>N</td>\n",
       "      <td>&lt;script&gt;alert('hi')&lt;/script&gt;</td>\n",
       "      <td>Yes</td>\n",
       "      <td>16</td>\n",
       "    </tr>\n",
       "    <tr>\n",
       "      <th>3</th>\n",
       "      <td>3</td>\n",
       "      <td>Arlin</td>\n",
       "      <td>Dearle</td>\n",
       "      <td>Male</td>\n",
       "      <td>61</td>\n",
       "      <td>1954-01-20 00:00:00</td>\n",
       "      <td>Recruiting Manager</td>\n",
       "      <td>Property</td>\n",
       "      <td>Mass Customer</td>\n",
       "      <td>N</td>\n",
       "      <td>2018-02-01 00:00:00</td>\n",
       "      <td>Yes</td>\n",
       "      <td>15</td>\n",
       "    </tr>\n",
       "  </tbody>\n",
       "</table>\n",
       "</div>"
      ],
      "text/plain": [
       "0 customer_id first_name  last_name gender  \\\n",
       "1           1    Laraine  Medendorp      F   \n",
       "2           2        Eli    Bockman   Male   \n",
       "3           3      Arlin     Dearle   Male   \n",
       "\n",
       "0 past_3_years_bike_related_purchases                  DOB  \\\n",
       "1                                  93  1953-10-12 00:00:00   \n",
       "2                                  81  1980-12-16 00:00:00   \n",
       "3                                  61  1954-01-20 00:00:00   \n",
       "\n",
       "0               job_title job_industry_category wealth_segment  \\\n",
       "1     Executive Secretary                Health  Mass Customer   \n",
       "2  Administrative Officer    Financial Services  Mass Customer   \n",
       "3      Recruiting Manager              Property  Mass Customer   \n",
       "\n",
       "0 deceased_indicator                       default owns_car tenure  \n",
       "1                  N                            \"'      Yes     11  \n",
       "2                  N  <script>alert('hi')</script>      Yes     16  \n",
       "3                  N           2018-02-01 00:00:00      Yes     15  "
      ]
     },
     "execution_count": 6,
     "metadata": {},
     "output_type": "execute_result"
    }
   ],
   "source": [
    "CustomerDemo.head(3)"
   ]
  },
  {
   "cell_type": "code",
   "execution_count": 7,
   "id": "aa01922f",
   "metadata": {},
   "outputs": [],
   "source": [
    "# Default Column Values look inconsistent and show no relevance\n",
    "# Drop this column\n",
    "CustomerDemo = CustomerDemo.drop('default', axis=1)"
   ]
  },
  {
   "cell_type": "code",
   "execution_count": 8,
   "id": "5e8a6c92",
   "metadata": {},
   "outputs": [
    {
     "data": {
      "text/plain": [
       "(4000, 12)"
      ]
     },
     "execution_count": 8,
     "metadata": {},
     "output_type": "execute_result"
    }
   ],
   "source": [
    "CustomerDemo.shape"
   ]
  },
  {
   "cell_type": "code",
   "execution_count": 9,
   "id": "c5fb906d",
   "metadata": {},
   "outputs": [
    {
     "name": "stdout",
     "output_type": "stream",
     "text": [
      "<class 'pandas.core.frame.DataFrame'>\n",
      "RangeIndex: 4000 entries, 1 to 4000\n",
      "Data columns (total 12 columns):\n",
      " #   Column                               Non-Null Count  Dtype \n",
      "---  ------                               --------------  ----- \n",
      " 0   customer_id                          4000 non-null   object\n",
      " 1   first_name                           4000 non-null   object\n",
      " 2   last_name                            3875 non-null   object\n",
      " 3   gender                               4000 non-null   object\n",
      " 4   past_3_years_bike_related_purchases  4000 non-null   object\n",
      " 5   DOB                                  3913 non-null   object\n",
      " 6   job_title                            3494 non-null   object\n",
      " 7   job_industry_category                3344 non-null   object\n",
      " 8   wealth_segment                       4000 non-null   object\n",
      " 9   deceased_indicator                   4000 non-null   object\n",
      " 10  owns_car                             4000 non-null   object\n",
      " 11  tenure                               3913 non-null   object\n",
      "dtypes: object(12)\n",
      "memory usage: 375.1+ KB\n"
     ]
    }
   ],
   "source": [
    "CustomerDemo.info()"
   ]
  },
  {
   "cell_type": "code",
   "execution_count": 10,
   "id": "2bf8227e",
   "metadata": {},
   "outputs": [
    {
     "data": {
      "text/html": [
       "<div>\n",
       "<style scoped>\n",
       "    .dataframe tbody tr th:only-of-type {\n",
       "        vertical-align: middle;\n",
       "    }\n",
       "\n",
       "    .dataframe tbody tr th {\n",
       "        vertical-align: top;\n",
       "    }\n",
       "\n",
       "    .dataframe thead th {\n",
       "        text-align: right;\n",
       "    }\n",
       "</style>\n",
       "<table border=\"1\" class=\"dataframe\">\n",
       "  <thead>\n",
       "    <tr style=\"text-align: right;\">\n",
       "      <th></th>\n",
       "      <th>customer_id</th>\n",
       "      <th>first_name</th>\n",
       "      <th>last_name</th>\n",
       "      <th>gender</th>\n",
       "      <th>past_3_years_bike_related_purchases</th>\n",
       "      <th>DOB</th>\n",
       "      <th>job_title</th>\n",
       "      <th>job_industry_category</th>\n",
       "      <th>wealth_segment</th>\n",
       "      <th>deceased_indicator</th>\n",
       "      <th>owns_car</th>\n",
       "      <th>tenure</th>\n",
       "    </tr>\n",
       "  </thead>\n",
       "  <tbody>\n",
       "    <tr>\n",
       "      <th>count</th>\n",
       "      <td>4000</td>\n",
       "      <td>4000</td>\n",
       "      <td>3875</td>\n",
       "      <td>4000</td>\n",
       "      <td>4000</td>\n",
       "      <td>3913</td>\n",
       "      <td>3494</td>\n",
       "      <td>3344</td>\n",
       "      <td>4000</td>\n",
       "      <td>4000</td>\n",
       "      <td>4000</td>\n",
       "      <td>3913</td>\n",
       "    </tr>\n",
       "    <tr>\n",
       "      <th>unique</th>\n",
       "      <td>4000</td>\n",
       "      <td>3139</td>\n",
       "      <td>3725</td>\n",
       "      <td>6</td>\n",
       "      <td>100</td>\n",
       "      <td>3448</td>\n",
       "      <td>195</td>\n",
       "      <td>9</td>\n",
       "      <td>3</td>\n",
       "      <td>2</td>\n",
       "      <td>2</td>\n",
       "      <td>22</td>\n",
       "    </tr>\n",
       "    <tr>\n",
       "      <th>top</th>\n",
       "      <td>1</td>\n",
       "      <td>Max</td>\n",
       "      <td>Pristnor</td>\n",
       "      <td>Female</td>\n",
       "      <td>16</td>\n",
       "      <td>1978-01-30 00:00:00</td>\n",
       "      <td>Business Systems Development Analyst</td>\n",
       "      <td>Manufacturing</td>\n",
       "      <td>Mass Customer</td>\n",
       "      <td>N</td>\n",
       "      <td>Yes</td>\n",
       "      <td>7</td>\n",
       "    </tr>\n",
       "    <tr>\n",
       "      <th>freq</th>\n",
       "      <td>1</td>\n",
       "      <td>5</td>\n",
       "      <td>3</td>\n",
       "      <td>2037</td>\n",
       "      <td>56</td>\n",
       "      <td>7</td>\n",
       "      <td>45</td>\n",
       "      <td>799</td>\n",
       "      <td>2000</td>\n",
       "      <td>3998</td>\n",
       "      <td>2024</td>\n",
       "      <td>235</td>\n",
       "    </tr>\n",
       "  </tbody>\n",
       "</table>\n",
       "</div>"
      ],
      "text/plain": [
       "0       customer_id first_name last_name  gender  \\\n",
       "count          4000       4000      3875    4000   \n",
       "unique         4000       3139      3725       6   \n",
       "top               1        Max  Pristnor  Female   \n",
       "freq              1          5         3    2037   \n",
       "\n",
       "0       past_3_years_bike_related_purchases                  DOB  \\\n",
       "count                                  4000                 3913   \n",
       "unique                                  100                 3448   \n",
       "top                                      16  1978-01-30 00:00:00   \n",
       "freq                                     56                    7   \n",
       "\n",
       "0                                  job_title job_industry_category  \\\n",
       "count                                   3494                  3344   \n",
       "unique                                   195                     9   \n",
       "top     Business Systems Development Analyst         Manufacturing   \n",
       "freq                                      45                   799   \n",
       "\n",
       "0      wealth_segment deceased_indicator owns_car  tenure  \n",
       "count            4000               4000     4000    3913  \n",
       "unique              3                  2        2      22  \n",
       "top     Mass Customer                  N      Yes       7  \n",
       "freq             2000               3998     2024     235  "
      ]
     },
     "execution_count": 10,
     "metadata": {},
     "output_type": "execute_result"
    }
   ],
   "source": [
    "CustomerDemo.describe()"
   ]
  },
  {
   "cell_type": "code",
   "execution_count": 11,
   "id": "3417c765",
   "metadata": {},
   "outputs": [
    {
     "data": {
      "text/plain": [
       "0"
      ]
     },
     "execution_count": 11,
     "metadata": {},
     "output_type": "execute_result"
    }
   ],
   "source": [
    "# Count Duplicated Items\n",
    "CustomerDemo.duplicated().sum()"
   ]
  },
  {
   "cell_type": "code",
   "execution_count": 12,
   "id": "e3210dfa",
   "metadata": {},
   "outputs": [
    {
     "data": {
      "text/plain": [
       "0\n",
       "customer_id                            4000\n",
       "first_name                             3139\n",
       "last_name                              3725\n",
       "gender                                    6\n",
       "past_3_years_bike_related_purchases     100\n",
       "DOB                                    3448\n",
       "job_title                               195\n",
       "job_industry_category                     9\n",
       "wealth_segment                            3\n",
       "deceased_indicator                        2\n",
       "owns_car                                  2\n",
       "tenure                                   22\n",
       "dtype: int64"
      ]
     },
     "execution_count": 12,
     "metadata": {},
     "output_type": "execute_result"
    }
   ],
   "source": [
    "# Count Unique Number of Items\n",
    "CustomerDemo.nunique() "
   ]
  },
  {
   "cell_type": "code",
   "execution_count": 13,
   "id": "a2b66c4f",
   "metadata": {},
   "outputs": [
    {
     "data": {
      "text/plain": [
       "0\n",
       "customer_id                              0\n",
       "first_name                               0\n",
       "last_name                              125\n",
       "gender                                   0\n",
       "past_3_years_bike_related_purchases      0\n",
       "DOB                                     87\n",
       "job_title                              506\n",
       "job_industry_category                  656\n",
       "wealth_segment                           0\n",
       "deceased_indicator                       0\n",
       "owns_car                                 0\n",
       "tenure                                  87\n",
       "dtype: int64"
      ]
     },
     "execution_count": 13,
     "metadata": {},
     "output_type": "execute_result"
    }
   ],
   "source": [
    "# Check for Missing Values for each Column\n",
    "CustomerDemo.isnull().sum()"
   ]
  },
  {
   "cell_type": "code",
   "execution_count": 14,
   "id": "6dd6a6df",
   "metadata": {},
   "outputs": [
    {
     "name": "stdout",
     "output_type": "stream",
     "text": [
      "Female    2037\n",
      "Male      1872\n",
      "U           88\n",
      "F            1\n",
      "Femal        1\n",
      "M            1\n",
      "Name: gender, dtype: int64\n",
      "\n",
      "\n",
      "1978-01-30    7\n",
      "1964-07-08    4\n",
      "1962-12-17    4\n",
      "1978-08-19    4\n",
      "1977-05-13    4\n",
      "             ..\n",
      "1989-06-16    1\n",
      "1998-09-30    1\n",
      "1985-03-11    1\n",
      "1989-10-23    1\n",
      "1991-11-05    1\n",
      "Name: DOB, Length: 3448, dtype: int64\n",
      "\n",
      "\n",
      "Manufacturing         799\n",
      "Financial Services    774\n",
      "Health                602\n",
      "Retail                358\n",
      "Property              267\n",
      "IT                    223\n",
      "Entertainment         136\n",
      "Argiculture           113\n",
      "Telecommunications     72\n",
      "Name: job_industry_category, dtype: int64\n",
      "\n",
      "\n",
      "Mass Customer        2000\n",
      "High Net Worth       1021\n",
      "Affluent Customer     979\n",
      "Name: wealth_segment, dtype: int64\n",
      "\n",
      "\n",
      "N    3998\n",
      "Y       2\n",
      "Name: deceased_indicator, dtype: int64\n",
      "\n",
      "\n",
      "Yes    2024\n",
      "No     1976\n",
      "Name: owns_car, dtype: int64\n",
      "\n",
      "\n"
     ]
    }
   ],
   "source": [
    "index = ['gender', 'DOB', 'job_industry_category', 'wealth_segment', 'deceased_indicator', 'owns_car']\n",
    "\n",
    "for item in index:\n",
    "    print(CustomerDemo[item].value_counts())\n",
    "    print('\\n')"
   ]
  },
  {
   "cell_type": "code",
   "execution_count": 15,
   "id": "899ac5b4",
   "metadata": {},
   "outputs": [],
   "source": [
    "# Gender Category has incorrect titles\n",
    "# Replace incorrect titles with appropriate titles\n",
    "CustomerDemo['gender'] = CustomerDemo['gender'].replace('F','Female').replace('M','Male').replace('Femal','Female')\n",
    "\n",
    "# Rename category U --> Unspecified\n",
    "CustomerDemo['gender'] = CustomerDemo['gender'].replace('U','Unspecified')"
   ]
  },
  {
   "cell_type": "code",
   "execution_count": 16,
   "id": "08acb6d0",
   "metadata": {},
   "outputs": [
    {
     "data": {
      "text/plain": [
       "Female         2039\n",
       "Male           1873\n",
       "Unspecified      88\n",
       "Name: gender, dtype: int64"
      ]
     },
     "execution_count": 16,
     "metadata": {},
     "output_type": "execute_result"
    }
   ],
   "source": [
    "CustomerDemo['gender'].value_counts()"
   ]
  },
  {
   "cell_type": "code",
   "execution_count": 17,
   "id": "6429b355",
   "metadata": {},
   "outputs": [],
   "source": [
    "# Convert DOB to DateTime Format\n",
    "CustomerDemo['DOB'] = pd.to_datetime(CustomerDemo['DOB'])"
   ]
  },
  {
   "cell_type": "code",
   "execution_count": 18,
   "id": "b8bb619a",
   "metadata": {},
   "outputs": [
    {
     "data": {
      "text/plain": [
       "count                          3913\n",
       "mean     1977-07-12 23:56:41.277792\n",
       "min             1843-12-21 00:00:00\n",
       "25%             1968-01-22 00:00:00\n",
       "50%             1977-07-22 00:00:00\n",
       "75%             1987-02-28 00:00:00\n",
       "max             2002-03-11 00:00:00\n",
       "Name: DOB, dtype: object"
      ]
     },
     "execution_count": 18,
     "metadata": {},
     "output_type": "execute_result"
    }
   ],
   "source": [
    "CustomerDemo['DOB'].describe(datetime_is_numeric = True)"
   ]
  },
  {
   "cell_type": "code",
   "execution_count": 19,
   "id": "f420287c",
   "metadata": {},
   "outputs": [
    {
     "data": {
      "text/plain": [
       "<matplotlib.collections.PathCollection at 0x7fbf9b495670>"
      ]
     },
     "execution_count": 19,
     "metadata": {},
     "output_type": "execute_result"
    },
    {
     "data": {
      "image/png": "[encoded data removed]",
      "text/plain": [
       "<Figure size 432x288 with 1 Axes>"
      ]
     },
     "metadata": {
      "needs_background": "light"
     },
     "output_type": "display_data"
    }
   ],
   "source": [
    "# Check Distribution of DOB Data\n",
    "plt.scatter([d.year for d in CustomerDemo['DOB']], [d.month for d in CustomerDemo['DOB']])"
   ]
  },
  {
   "cell_type": "code",
   "execution_count": 20,
   "id": "45bee609",
   "metadata": {},
   "outputs": [
    {
     "data": {
      "text/html": [
       "<div>\n",
       "<style scoped>\n",
       "    .dataframe tbody tr th:only-of-type {\n",
       "        vertical-align: middle;\n",
       "    }\n",
       "\n",
       "    .dataframe tbody tr th {\n",
       "        vertical-align: top;\n",
       "    }\n",
       "\n",
       "    .dataframe thead th {\n",
       "        text-align: right;\n",
       "    }\n",
       "</style>\n",
       "<table border=\"1\" class=\"dataframe\">\n",
       "  <thead>\n",
       "    <tr style=\"text-align: right;\">\n",
       "      <th></th>\n",
       "      <th>customer_id</th>\n",
       "      <th>first_name</th>\n",
       "      <th>last_name</th>\n",
       "      <th>gender</th>\n",
       "      <th>past_3_years_bike_related_purchases</th>\n",
       "      <th>DOB</th>\n",
       "      <th>job_title</th>\n",
       "      <th>job_industry_category</th>\n",
       "      <th>wealth_segment</th>\n",
       "      <th>deceased_indicator</th>\n",
       "      <th>owns_car</th>\n",
       "      <th>tenure</th>\n",
       "    </tr>\n",
       "  </thead>\n",
       "  <tbody>\n",
       "    <tr>\n",
       "      <th>1</th>\n",
       "      <td>1</td>\n",
       "      <td>Laraine</td>\n",
       "      <td>Medendorp</td>\n",
       "      <td>Female</td>\n",
       "      <td>93</td>\n",
       "      <td>1953-10-12</td>\n",
       "      <td>Executive Secretary</td>\n",
       "      <td>Health</td>\n",
       "      <td>Mass Customer</td>\n",
       "      <td>N</td>\n",
       "      <td>Yes</td>\n",
       "      <td>11</td>\n",
       "    </tr>\n",
       "    <tr>\n",
       "      <th>2</th>\n",
       "      <td>2</td>\n",
       "      <td>Eli</td>\n",
       "      <td>Bockman</td>\n",
       "      <td>Male</td>\n",
       "      <td>81</td>\n",
       "      <td>1980-12-16</td>\n",
       "      <td>Administrative Officer</td>\n",
       "      <td>Financial Services</td>\n",
       "      <td>Mass Customer</td>\n",
       "      <td>N</td>\n",
       "      <td>Yes</td>\n",
       "      <td>16</td>\n",
       "    </tr>\n",
       "    <tr>\n",
       "      <th>3</th>\n",
       "      <td>3</td>\n",
       "      <td>Arlin</td>\n",
       "      <td>Dearle</td>\n",
       "      <td>Male</td>\n",
       "      <td>61</td>\n",
       "      <td>1954-01-20</td>\n",
       "      <td>Recruiting Manager</td>\n",
       "      <td>Property</td>\n",
       "      <td>Mass Customer</td>\n",
       "      <td>N</td>\n",
       "      <td>Yes</td>\n",
       "      <td>15</td>\n",
       "    </tr>\n",
       "  </tbody>\n",
       "</table>\n",
       "</div>"
      ],
      "text/plain": [
       "0 customer_id first_name  last_name  gender  \\\n",
       "1           1    Laraine  Medendorp  Female   \n",
       "2           2        Eli    Bockman    Male   \n",
       "3           3      Arlin     Dearle    Male   \n",
       "\n",
       "0 past_3_years_bike_related_purchases        DOB               job_title  \\\n",
       "1                                  93 1953-10-12     Executive Secretary   \n",
       "2                                  81 1980-12-16  Administrative Officer   \n",
       "3                                  61 1954-01-20      Recruiting Manager   \n",
       "\n",
       "0 job_industry_category wealth_segment deceased_indicator owns_car tenure  \n",
       "1                Health  Mass Customer                  N      Yes     11  \n",
       "2    Financial Services  Mass Customer                  N      Yes     16  \n",
       "3              Property  Mass Customer                  N      Yes     15  "
      ]
     },
     "execution_count": 20,
     "metadata": {},
     "output_type": "execute_result"
    }
   ],
   "source": [
    "CustomerDemo.head(3)"
   ]
  },
  {
   "cell_type": "code",
   "execution_count": 21,
   "id": "28aa3fca",
   "metadata": {},
   "outputs": [],
   "source": [
    "CustomerDemo = CustomerDemo.dropna()"
   ]
  },
  {
   "cell_type": "code",
   "execution_count": 22,
   "id": "f8b3e38c",
   "metadata": {},
   "outputs": [],
   "source": [
    "# Change Yes / No Values to Binary Values for later Analysis\n",
    "\n",
    "### Deceased Indicator Y = 1 / N = 0\n",
    "CustomerDemo['deceased_indicator'].replace(['Y'], 1, inplace=True)\n",
    "CustomerDemo['deceased_indicator'].replace(['N'], 0, inplace=True)\n",
    "\n",
    "### Owns Car Y = 1 / N = 0\n",
    "CustomerDemo['owns_car'].replace('Yes', 1, inplace=True)\n",
    "CustomerDemo['owns_car'].replace('No', 0, inplace=True)"
   ]
  },
  {
   "cell_type": "code",
   "execution_count": 23,
   "id": "efd6e65b",
   "metadata": {},
   "outputs": [],
   "source": [
    "# Drop DOB data with DOB in 1800s\n",
    "CustomerDemo = CustomerDemo[CustomerDemo['DOB'] != CustomerDemo.DOB.min()]\n",
    "\n",
    "# Drop Deceased Customers\n",
    "CustomerDemo[CustomerDemo['deceased_indicator'] == 0]\n",
    "CustomerDemo = CustomerDemo.drop(['deceased_indicator'], axis=1)"
   ]
  },
  {
   "cell_type": "code",
   "execution_count": 25,
   "id": "7c8f49b5",
   "metadata": {},
   "outputs": [],
   "source": [
    "# Create Age Column for Further Analysis\n",
    "CustomerDemo['age'] = (dt.now() - CustomerDemo['DOB']) / np.timedelta64(1, 'Y')\n",
    "CustomerDemo['age_group'] = ((round(CustomerDemo['age'] / 10)) * 10).astype(int)"
   ]
  },
  {
   "cell_type": "code",
   "execution_count": 26,
   "id": "9c87b5f5",
   "metadata": {},
   "outputs": [
    {
     "data": {
      "text/html": [
       "<div>\n",
       "<style scoped>\n",
       "    .dataframe tbody tr th:only-of-type {\n",
       "        vertical-align: middle;\n",
       "    }\n",
       "\n",
       "    .dataframe tbody tr th {\n",
       "        vertical-align: top;\n",
       "    }\n",
       "\n",
       "    .dataframe thead th {\n",
       "        text-align: right;\n",
       "    }\n",
       "</style>\n",
       "<table border=\"1\" class=\"dataframe\">\n",
       "  <thead>\n",
       "    <tr style=\"text-align: right;\">\n",
       "      <th></th>\n",
       "      <th>customer_id</th>\n",
       "      <th>first_name</th>\n",
       "      <th>last_name</th>\n",
       "      <th>gender</th>\n",
       "      <th>past_3_years_bike_related_purchases</th>\n",
       "      <th>DOB</th>\n",
       "      <th>job_title</th>\n",
       "      <th>job_industry_category</th>\n",
       "      <th>wealth_segment</th>\n",
       "      <th>owns_car</th>\n",
       "      <th>tenure</th>\n",
       "      <th>age</th>\n",
       "      <th>age_group</th>\n",
       "    </tr>\n",
       "  </thead>\n",
       "  <tbody>\n",
       "    <tr>\n",
       "      <th>1</th>\n",
       "      <td>1</td>\n",
       "      <td>Laraine</td>\n",
       "      <td>Medendorp</td>\n",
       "      <td>Female</td>\n",
       "      <td>93</td>\n",
       "      <td>1953-10-12</td>\n",
       "      <td>Executive Secretary</td>\n",
       "      <td>Health</td>\n",
       "      <td>Mass Customer</td>\n",
       "      <td>1</td>\n",
       "      <td>11</td>\n",
       "      <td>69.303980</td>\n",
       "      <td>70</td>\n",
       "    </tr>\n",
       "    <tr>\n",
       "      <th>2</th>\n",
       "      <td>2</td>\n",
       "      <td>Eli</td>\n",
       "      <td>Bockman</td>\n",
       "      <td>Male</td>\n",
       "      <td>81</td>\n",
       "      <td>1980-12-16</td>\n",
       "      <td>Administrative Officer</td>\n",
       "      <td>Financial Services</td>\n",
       "      <td>Mass Customer</td>\n",
       "      <td>1</td>\n",
       "      <td>16</td>\n",
       "      <td>42.124777</td>\n",
       "      <td>40</td>\n",
       "    </tr>\n",
       "    <tr>\n",
       "      <th>3</th>\n",
       "      <td>3</td>\n",
       "      <td>Arlin</td>\n",
       "      <td>Dearle</td>\n",
       "      <td>Male</td>\n",
       "      <td>61</td>\n",
       "      <td>1954-01-20</td>\n",
       "      <td>Recruiting Manager</td>\n",
       "      <td>Property</td>\n",
       "      <td>Mass Customer</td>\n",
       "      <td>1</td>\n",
       "      <td>15</td>\n",
       "      <td>69.030190</td>\n",
       "      <td>70</td>\n",
       "    </tr>\n",
       "  </tbody>\n",
       "</table>\n",
       "</div>"
      ],
      "text/plain": [
       "0 customer_id first_name  last_name  gender  \\\n",
       "1           1    Laraine  Medendorp  Female   \n",
       "2           2        Eli    Bockman    Male   \n",
       "3           3      Arlin     Dearle    Male   \n",
       "\n",
       "0 past_3_years_bike_related_purchases        DOB               job_title  \\\n",
       "1                                  93 1953-10-12     Executive Secretary   \n",
       "2                                  81 1980-12-16  Administrative Officer   \n",
       "3                                  61 1954-01-20      Recruiting Manager   \n",
       "\n",
       "0 job_industry_category wealth_segment  owns_car tenure        age  age_group  \n",
       "1                Health  Mass Customer         1     11  69.303980         70  \n",
       "2    Financial Services  Mass Customer         1     16  42.124777         40  \n",
       "3              Property  Mass Customer         1     15  69.030190         70  "
      ]
     },
     "execution_count": 26,
     "metadata": {},
     "output_type": "execute_result"
    }
   ],
   "source": [
    "CustomerDemo.head(3)"
   ]
  },
  {
   "cell_type": "code",
   "execution_count": 27,
   "id": "4c7210cd",
   "metadata": {},
   "outputs": [],
   "source": [
    "CustomerClean = CustomerDemo.dropna()"
   ]
  },
  {
   "cell_type": "code",
   "execution_count": 28,
   "id": "8c1615c7",
   "metadata": {},
   "outputs": [
    {
     "data": {
      "text/plain": [
       "(2779, 13)"
      ]
     },
     "execution_count": 28,
     "metadata": {},
     "output_type": "execute_result"
    }
   ],
   "source": [
    "CustomerClean.shape"
   ]
  },
  {
   "cell_type": "code",
   "execution_count": 29,
   "id": "5dd5c509",
   "metadata": {},
   "outputs": [
    {
     "name": "stdout",
     "output_type": "stream",
     "text": [
      "<class 'pandas.core.frame.DataFrame'>\n",
      "Int64Index: 2779 entries, 1 to 3997\n",
      "Data columns (total 13 columns):\n",
      " #   Column                               Non-Null Count  Dtype         \n",
      "---  ------                               --------------  -----         \n",
      " 0   customer_id                          2779 non-null   object        \n",
      " 1   first_name                           2779 non-null   object        \n",
      " 2   last_name                            2779 non-null   object        \n",
      " 3   gender                               2779 non-null   object        \n",
      " 4   past_3_years_bike_related_purchases  2779 non-null   object        \n",
      " 5   DOB                                  2779 non-null   datetime64[ns]\n",
      " 6   job_title                            2779 non-null   object        \n",
      " 7   job_industry_category                2779 non-null   object        \n",
      " 8   wealth_segment                       2779 non-null   object        \n",
      " 9   owns_car                             2779 non-null   int64         \n",
      " 10  tenure                               2779 non-null   object        \n",
      " 11  age                                  2779 non-null   float64       \n",
      " 12  age_group                            2779 non-null   int64         \n",
      "dtypes: datetime64[ns](1), float64(1), int64(2), object(9)\n",
      "memory usage: 304.0+ KB\n"
     ]
    }
   ],
   "source": [
    "CustomerClean.info()"
   ]
  },
  {
   "cell_type": "code",
   "execution_count": 30,
   "id": "fd56217a",
   "metadata": {},
   "outputs": [],
   "source": [
    "# Save to csv file after the cleaning\n",
    "CustomerClean.to_csv('./CustomerDemo_cleaned.csv', index = False)"
   ]
  }
 ],
 "metadata": {
  "kernelspec": {
   "display_name": "Python 3 (ipykernel)",
   "language": "python",
   "name": "python3"
  },
  "language_info": {
   "codemirror_mode": {
    "name": "ipython",
    "version": 3
   },
   "file_extension": ".py",
   "mimetype": "text/x-python",
   "name": "python",
   "nbconvert_exporter": "python",
   "pygments_lexer": "ipython3",
   "version": "3.9.7"
  }
 },
 "nbformat": 4,
 "nbformat_minor": 5
}
