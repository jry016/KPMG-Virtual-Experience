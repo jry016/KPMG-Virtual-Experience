{
 "cells": [
  {
   "cell_type": "code",
   "execution_count": 1,
   "id": "29abaa25",
   "metadata": {},
   "outputs": [],
   "source": [
    "import pandas as pd\n",
    "import numpy as np\n",
    "from datetime import datetime \n",
    "from datetime import timedelta\n",
    "from matplotlib.dates import DateFormatter"
   ]
  },
  {
   "cell_type": "code",
   "execution_count": 2,
   "id": "a91344da",
   "metadata": {},
   "outputs": [
    {
     "name": "stdout",
     "output_type": "stream",
     "text": [
      "CustomerAddress_cleaned.csv\r\n",
      "CustomerDemo_cleaned.csv\r\n",
      "KPMG Task 1 - Customer Address .ipynb\r\n",
      "KPMG Task 1 - Customer Demographic Table.ipynb\r\n",
      "KPMG Task 1 - New Customers Table.ipynb\r\n",
      "KPMG Task 1 - Transactions Table.ipynb\r\n",
      "KPMG Task 1 Sample ANS .docx\r\n",
      "KPMG Task 1.docx\r\n",
      "KPMG Task 2.ipynb\r\n",
      "KPMG_VI_New_raw_data_update_final.xlsx\r\n",
      "Module_2_Template_slide.pptx\r\n",
      "Transactions_cleaned.csv\r\n",
      "~$KPMG_VI_New_raw_data_update_final.xlsx\r\n"
     ]
    }
   ],
   "source": [
    "%ls"
   ]
  },
  {
   "cell_type": "code",
   "execution_count": 3,
   "id": "1a06137f",
   "metadata": {},
   "outputs": [],
   "source": [
    "# Import Raw Data\n",
    "data = pd.ExcelFile(\"KPMG_VI_New_raw_data_update_final.xlsx\")"
   ]
  },
  {
   "cell_type": "code",
   "execution_count": 4,
   "id": "bcba0f1d",
   "metadata": {},
   "outputs": [],
   "source": [
    "# Seperate Data by Sheets\n",
    "NewCustomer = pd.read_excel(data, 'NewCustomerList')\n"
   ]
  },
  {
   "cell_type": "code",
   "execution_count": 5,
   "id": "3f567b14",
   "metadata": {},
   "outputs": [],
   "source": [
    "new_header = NewCustomer.iloc[0]\n",
    "NewCustomer.columns = new_header\n",
    "\n",
    "# We Noticed there are Columns with NaN names \n",
    "# Drop these columns\n",
    "NewCustomer = NewCustomer.loc[1:, NewCustomer.columns.notna()]"
   ]
  },
  {
   "cell_type": "code",
   "execution_count": 6,
   "id": "64e1e5c5",
   "metadata": {},
   "outputs": [
    {
     "data": {
      "text/html": [
       "<div>\n",
       "<style scoped>\n",
       "    .dataframe tbody tr th:only-of-type {\n",
       "        vertical-align: middle;\n",
       "    }\n",
       "\n",
       "    .dataframe tbody tr th {\n",
       "        vertical-align: top;\n",
       "    }\n",
       "\n",
       "    .dataframe thead th {\n",
       "        text-align: right;\n",
       "    }\n",
       "</style>\n",
       "<table border=\"1\" class=\"dataframe\">\n",
       "  <thead>\n",
       "    <tr style=\"text-align: right;\">\n",
       "      <th></th>\n",
       "      <th>first_name</th>\n",
       "      <th>last_name</th>\n",
       "      <th>gender</th>\n",
       "      <th>past_3_years_bike_related_purchases</th>\n",
       "      <th>DOB</th>\n",
       "      <th>job_title</th>\n",
       "      <th>job_industry_category</th>\n",
       "      <th>wealth_segment</th>\n",
       "      <th>deceased_indicator</th>\n",
       "      <th>owns_car</th>\n",
       "      <th>tenure</th>\n",
       "      <th>address</th>\n",
       "      <th>postcode</th>\n",
       "      <th>state</th>\n",
       "      <th>country</th>\n",
       "      <th>property_valuation</th>\n",
       "      <th>Rank</th>\n",
       "      <th>Value</th>\n",
       "    </tr>\n",
       "  </thead>\n",
       "  <tbody>\n",
       "    <tr>\n",
       "      <th>1</th>\n",
       "      <td>Chickie</td>\n",
       "      <td>Brister</td>\n",
       "      <td>Male</td>\n",
       "      <td>86</td>\n",
       "      <td>1957-07-12</td>\n",
       "      <td>General Manager</td>\n",
       "      <td>Manufacturing</td>\n",
       "      <td>Mass Customer</td>\n",
       "      <td>N</td>\n",
       "      <td>Yes</td>\n",
       "      <td>14</td>\n",
       "      <td>45 Shopko Center</td>\n",
       "      <td>4500</td>\n",
       "      <td>QLD</td>\n",
       "      <td>Australia</td>\n",
       "      <td>6</td>\n",
       "      <td>1</td>\n",
       "      <td>1.71875</td>\n",
       "    </tr>\n",
       "    <tr>\n",
       "      <th>2</th>\n",
       "      <td>Morly</td>\n",
       "      <td>Genery</td>\n",
       "      <td>Male</td>\n",
       "      <td>69</td>\n",
       "      <td>1970-03-22</td>\n",
       "      <td>Structural Engineer</td>\n",
       "      <td>Property</td>\n",
       "      <td>Mass Customer</td>\n",
       "      <td>N</td>\n",
       "      <td>No</td>\n",
       "      <td>16</td>\n",
       "      <td>14 Mccormick Park</td>\n",
       "      <td>2113</td>\n",
       "      <td>NSW</td>\n",
       "      <td>Australia</td>\n",
       "      <td>11</td>\n",
       "      <td>1</td>\n",
       "      <td>1.71875</td>\n",
       "    </tr>\n",
       "  </tbody>\n",
       "</table>\n",
       "</div>"
      ],
      "text/plain": [
       "0 first_name last_name gender past_3_years_bike_related_purchases         DOB  \\\n",
       "1    Chickie   Brister   Male                                  86  1957-07-12   \n",
       "2      Morly    Genery   Male                                  69  1970-03-22   \n",
       "\n",
       "0            job_title job_industry_category wealth_segment  \\\n",
       "1      General Manager         Manufacturing  Mass Customer   \n",
       "2  Structural Engineer              Property  Mass Customer   \n",
       "\n",
       "0 deceased_indicator owns_car tenure            address postcode state  \\\n",
       "1                  N      Yes     14   45 Shopko Center     4500   QLD   \n",
       "2                  N       No     16  14 Mccormick Park     2113   NSW   \n",
       "\n",
       "0    country property_valuation Rank    Value  \n",
       "1  Australia                  6    1  1.71875  \n",
       "2  Australia                 11    1  1.71875  "
      ]
     },
     "execution_count": 6,
     "metadata": {},
     "output_type": "execute_result"
    }
   ],
   "source": [
    "NewCustomer.head(2)"
   ]
  },
  {
   "cell_type": "code",
   "execution_count": 7,
   "id": "b783355f",
   "metadata": {},
   "outputs": [
    {
     "data": {
      "text/plain": [
       "(1000, 18)"
      ]
     },
     "execution_count": 7,
     "metadata": {},
     "output_type": "execute_result"
    }
   ],
   "source": [
    "NewCustomer.shape"
   ]
  },
  {
   "cell_type": "code",
   "execution_count": 8,
   "id": "f5b7b43f",
   "metadata": {},
   "outputs": [
    {
     "data": {
      "text/html": [
       "<div>\n",
       "<style scoped>\n",
       "    .dataframe tbody tr th:only-of-type {\n",
       "        vertical-align: middle;\n",
       "    }\n",
       "\n",
       "    .dataframe tbody tr th {\n",
       "        vertical-align: top;\n",
       "    }\n",
       "\n",
       "    .dataframe thead th {\n",
       "        text-align: right;\n",
       "    }\n",
       "</style>\n",
       "<table border=\"1\" class=\"dataframe\">\n",
       "  <thead>\n",
       "    <tr style=\"text-align: right;\">\n",
       "      <th></th>\n",
       "      <th>first_name</th>\n",
       "      <th>last_name</th>\n",
       "      <th>gender</th>\n",
       "      <th>past_3_years_bike_related_purchases</th>\n",
       "      <th>DOB</th>\n",
       "      <th>job_title</th>\n",
       "      <th>job_industry_category</th>\n",
       "      <th>wealth_segment</th>\n",
       "      <th>deceased_indicator</th>\n",
       "      <th>owns_car</th>\n",
       "      <th>tenure</th>\n",
       "      <th>address</th>\n",
       "      <th>postcode</th>\n",
       "      <th>state</th>\n",
       "      <th>country</th>\n",
       "      <th>property_valuation</th>\n",
       "      <th>Rank</th>\n",
       "      <th>Value</th>\n",
       "    </tr>\n",
       "  </thead>\n",
       "  <tbody>\n",
       "    <tr>\n",
       "      <th>count</th>\n",
       "      <td>1000</td>\n",
       "      <td>971</td>\n",
       "      <td>1000</td>\n",
       "      <td>1000</td>\n",
       "      <td>983</td>\n",
       "      <td>894</td>\n",
       "      <td>835</td>\n",
       "      <td>1000</td>\n",
       "      <td>1000</td>\n",
       "      <td>1000</td>\n",
       "      <td>1000</td>\n",
       "      <td>1000</td>\n",
       "      <td>1000</td>\n",
       "      <td>1000</td>\n",
       "      <td>1000</td>\n",
       "      <td>1000</td>\n",
       "      <td>1000</td>\n",
       "      <td>1000.0000</td>\n",
       "    </tr>\n",
       "    <tr>\n",
       "      <th>unique</th>\n",
       "      <td>940</td>\n",
       "      <td>961</td>\n",
       "      <td>3</td>\n",
       "      <td>100</td>\n",
       "      <td>961</td>\n",
       "      <td>184</td>\n",
       "      <td>9</td>\n",
       "      <td>3</td>\n",
       "      <td>1</td>\n",
       "      <td>2</td>\n",
       "      <td>23</td>\n",
       "      <td>1000</td>\n",
       "      <td>522</td>\n",
       "      <td>3</td>\n",
       "      <td>1</td>\n",
       "      <td>16</td>\n",
       "      <td>324</td>\n",
       "      <td>324.0000</td>\n",
       "    </tr>\n",
       "    <tr>\n",
       "      <th>top</th>\n",
       "      <td>Rozamond</td>\n",
       "      <td>Sissel</td>\n",
       "      <td>Female</td>\n",
       "      <td>60</td>\n",
       "      <td>1965-07-03</td>\n",
       "      <td>Associate Professor</td>\n",
       "      <td>Financial Services</td>\n",
       "      <td>Mass Customer</td>\n",
       "      <td>N</td>\n",
       "      <td>No</td>\n",
       "      <td>9</td>\n",
       "      <td>45 Shopko Center</td>\n",
       "      <td>2145</td>\n",
       "      <td>NSW</td>\n",
       "      <td>Australia</td>\n",
       "      <td>9</td>\n",
       "      <td>760</td>\n",
       "      <td>0.6375</td>\n",
       "    </tr>\n",
       "    <tr>\n",
       "      <th>freq</th>\n",
       "      <td>3</td>\n",
       "      <td>2</td>\n",
       "      <td>513</td>\n",
       "      <td>20</td>\n",
       "      <td>2</td>\n",
       "      <td>15</td>\n",
       "      <td>203</td>\n",
       "      <td>508</td>\n",
       "      <td>1000</td>\n",
       "      <td>507</td>\n",
       "      <td>79</td>\n",
       "      <td>1</td>\n",
       "      <td>9</td>\n",
       "      <td>506</td>\n",
       "      <td>1000</td>\n",
       "      <td>173</td>\n",
       "      <td>13</td>\n",
       "      <td>13.0000</td>\n",
       "    </tr>\n",
       "  </tbody>\n",
       "</table>\n",
       "</div>"
      ],
      "text/plain": [
       "0      first_name last_name  gender past_3_years_bike_related_purchases  \\\n",
       "count        1000       971    1000                                1000   \n",
       "unique        940       961       3                                 100   \n",
       "top      Rozamond    Sissel  Female                                  60   \n",
       "freq            3         2     513                                  20   \n",
       "\n",
       "0              DOB            job_title job_industry_category wealth_segment  \\\n",
       "count          983                  894                   835           1000   \n",
       "unique         961                  184                     9              3   \n",
       "top     1965-07-03  Associate Professor    Financial Services  Mass Customer   \n",
       "freq             2                   15                   203            508   \n",
       "\n",
       "0      deceased_indicator owns_car  tenure           address postcode state  \\\n",
       "count                1000     1000    1000              1000     1000  1000   \n",
       "unique                  1        2      23              1000      522     3   \n",
       "top                     N       No       9  45 Shopko Center     2145   NSW   \n",
       "freq                 1000      507      79                 1        9   506   \n",
       "\n",
       "0         country property_valuation  Rank      Value  \n",
       "count        1000               1000  1000  1000.0000  \n",
       "unique          1                 16   324   324.0000  \n",
       "top     Australia                  9   760     0.6375  \n",
       "freq         1000                173    13    13.0000  "
      ]
     },
     "execution_count": 8,
     "metadata": {},
     "output_type": "execute_result"
    }
   ],
   "source": [
    "NewCustomer.describe()"
   ]
  },
  {
   "cell_type": "code",
   "execution_count": 9,
   "id": "eec346e1",
   "metadata": {},
   "outputs": [
    {
     "name": "stdout",
     "output_type": "stream",
     "text": [
      "<class 'pandas.core.frame.DataFrame'>\n",
      "RangeIndex: 1000 entries, 1 to 1000\n",
      "Data columns (total 18 columns):\n",
      " #   Column                               Non-Null Count  Dtype \n",
      "---  ------                               --------------  ----- \n",
      " 0   first_name                           1000 non-null   object\n",
      " 1   last_name                            971 non-null    object\n",
      " 2   gender                               1000 non-null   object\n",
      " 3   past_3_years_bike_related_purchases  1000 non-null   object\n",
      " 4   DOB                                  983 non-null    object\n",
      " 5   job_title                            894 non-null    object\n",
      " 6   job_industry_category                835 non-null    object\n",
      " 7   wealth_segment                       1000 non-null   object\n",
      " 8   deceased_indicator                   1000 non-null   object\n",
      " 9   owns_car                             1000 non-null   object\n",
      " 10  tenure                               1000 non-null   object\n",
      " 11  address                              1000 non-null   object\n",
      " 12  postcode                             1000 non-null   object\n",
      " 13  state                                1000 non-null   object\n",
      " 14  country                              1000 non-null   object\n",
      " 15  property_valuation                   1000 non-null   object\n",
      " 16  Rank                                 1000 non-null   object\n",
      " 17  Value                                1000 non-null   object\n",
      "dtypes: object(18)\n",
      "memory usage: 140.8+ KB\n"
     ]
    }
   ],
   "source": [
    "NewCustomer.info()"
   ]
  },
  {
   "cell_type": "code",
   "execution_count": 10,
   "id": "45319c44",
   "metadata": {},
   "outputs": [
    {
     "data": {
      "text/plain": [
       "0"
      ]
     },
     "execution_count": 10,
     "metadata": {},
     "output_type": "execute_result"
    }
   ],
   "source": [
    "# Count Duplicated Items\n",
    "NewCustomer.duplicated().sum()"
   ]
  },
  {
   "cell_type": "code",
   "execution_count": 11,
   "id": "336d0b24",
   "metadata": {},
   "outputs": [
    {
     "data": {
      "text/plain": [
       "0\n",
       "first_name                              940\n",
       "last_name                               961\n",
       "gender                                    3\n",
       "past_3_years_bike_related_purchases     100\n",
       "DOB                                     961\n",
       "job_title                               184\n",
       "job_industry_category                     9\n",
       "wealth_segment                            3\n",
       "deceased_indicator                        1\n",
       "owns_car                                  2\n",
       "tenure                                   23\n",
       "address                                1000\n",
       "postcode                                522\n",
       "state                                     3\n",
       "country                                   1\n",
       "property_valuation                       16\n",
       "Rank                                    324\n",
       "Value                                   324\n",
       "dtype: int64"
      ]
     },
     "execution_count": 11,
     "metadata": {},
     "output_type": "execute_result"
    }
   ],
   "source": [
    "# Count Unique Number of Items\n",
    "NewCustomer.nunique() "
   ]
  },
  {
   "cell_type": "code",
   "execution_count": 12,
   "id": "672259f5",
   "metadata": {},
   "outputs": [
    {
     "data": {
      "text/plain": [
       "0\n",
       "first_name                               0\n",
       "last_name                               29\n",
       "gender                                   0\n",
       "past_3_years_bike_related_purchases      0\n",
       "DOB                                     17\n",
       "job_title                              106\n",
       "job_industry_category                  165\n",
       "wealth_segment                           0\n",
       "deceased_indicator                       0\n",
       "owns_car                                 0\n",
       "tenure                                   0\n",
       "address                                  0\n",
       "postcode                                 0\n",
       "state                                    0\n",
       "country                                  0\n",
       "property_valuation                       0\n",
       "Rank                                     0\n",
       "Value                                    0\n",
       "dtype: int64"
      ]
     },
     "execution_count": 12,
     "metadata": {},
     "output_type": "execute_result"
    }
   ],
   "source": [
    "# Check for Missing Values for each Column\n",
    "NewCustomer.isnull().sum()"
   ]
  },
  {
   "cell_type": "code",
   "execution_count": 13,
   "id": "c23bd04b",
   "metadata": {},
   "outputs": [
    {
     "name": "stdout",
     "output_type": "stream",
     "text": [
      "Female    513\n",
      "Male      470\n",
      "U          17\n",
      "Name: gender, dtype: int64\n",
      "\n",
      "\n",
      "1965-07-03    2\n",
      "1978-01-15    2\n",
      "1979-07-28    2\n",
      "1995-08-13    2\n",
      "1941-07-21    2\n",
      "             ..\n",
      "1978-05-27    1\n",
      "1945-08-08    1\n",
      "1943-08-27    1\n",
      "1999-10-24    1\n",
      "1955-10-02    1\n",
      "Name: DOB, Length: 961, dtype: int64\n",
      "\n",
      "\n",
      "Financial Services    203\n",
      "Manufacturing         199\n",
      "Health                152\n",
      "Retail                 78\n",
      "Property               64\n",
      "IT                     51\n",
      "Entertainment          37\n",
      "Argiculture            26\n",
      "Telecommunications     25\n",
      "Name: job_industry_category, dtype: int64\n",
      "\n",
      "\n",
      "Mass Customer        508\n",
      "High Net Worth       251\n",
      "Affluent Customer    241\n",
      "Name: wealth_segment, dtype: int64\n",
      "\n",
      "\n",
      "N    1000\n",
      "Name: deceased_indicator, dtype: int64\n",
      "\n",
      "\n",
      "No     507\n",
      "Yes    493\n",
      "Name: owns_car, dtype: int64\n",
      "\n",
      "\n",
      "NSW    506\n",
      "VIC    266\n",
      "QLD    228\n",
      "Name: state, dtype: int64\n",
      "\n",
      "\n"
     ]
    }
   ],
   "source": [
    "index = ['gender', 'DOB', 'job_industry_category', 'wealth_segment', 'deceased_indicator', 'owns_car', 'state']\n",
    "\n",
    "for item in index:\n",
    "    print(NewCustomer[item].value_counts())\n",
    "    print('\\n')"
   ]
  },
  {
   "cell_type": "code",
   "execution_count": 14,
   "id": "fc1c4a92",
   "metadata": {},
   "outputs": [],
   "source": [
    "NewCustomer = NewCustomer.dropna()"
   ]
  },
  {
   "cell_type": "code",
   "execution_count": 15,
   "id": "ca7cb3f3",
   "metadata": {},
   "outputs": [],
   "source": [
    "# Create Age Column for Further Analysis\n",
    "\n",
    "# Convert DOB to DateTime Format\n",
    "NewCustomer['DOB'] = pd.to_datetime(NewCustomer['DOB'])\n",
    "NewCustomer['age'] = (datetime.now() - NewCustomer['DOB']) / np.timedelta64(1, 'Y')\n",
    "NewCustomer['age_group'] = ((round(NewCustomer['age'] / 10)) * 10).astype(int)"
   ]
  },
  {
   "cell_type": "code",
   "execution_count": 16,
   "id": "bfd2cafa",
   "metadata": {},
   "outputs": [
    {
     "data": {
      "text/html": [
       "<div>\n",
       "<style scoped>\n",
       "    .dataframe tbody tr th:only-of-type {\n",
       "        vertical-align: middle;\n",
       "    }\n",
       "\n",
       "    .dataframe tbody tr th {\n",
       "        vertical-align: top;\n",
       "    }\n",
       "\n",
       "    .dataframe thead th {\n",
       "        text-align: right;\n",
       "    }\n",
       "</style>\n",
       "<table border=\"1\" class=\"dataframe\">\n",
       "  <thead>\n",
       "    <tr style=\"text-align: right;\">\n",
       "      <th></th>\n",
       "      <th>first_name</th>\n",
       "      <th>last_name</th>\n",
       "      <th>gender</th>\n",
       "      <th>past_3_years_bike_related_purchases</th>\n",
       "      <th>DOB</th>\n",
       "      <th>job_title</th>\n",
       "      <th>job_industry_category</th>\n",
       "      <th>wealth_segment</th>\n",
       "      <th>deceased_indicator</th>\n",
       "      <th>owns_car</th>\n",
       "      <th>tenure</th>\n",
       "      <th>address</th>\n",
       "      <th>postcode</th>\n",
       "      <th>state</th>\n",
       "      <th>country</th>\n",
       "      <th>property_valuation</th>\n",
       "      <th>Rank</th>\n",
       "      <th>Value</th>\n",
       "      <th>age</th>\n",
       "      <th>age_group</th>\n",
       "    </tr>\n",
       "  </thead>\n",
       "  <tbody>\n",
       "    <tr>\n",
       "      <th>1</th>\n",
       "      <td>Chickie</td>\n",
       "      <td>Brister</td>\n",
       "      <td>Male</td>\n",
       "      <td>86</td>\n",
       "      <td>1957-07-12</td>\n",
       "      <td>General Manager</td>\n",
       "      <td>Manufacturing</td>\n",
       "      <td>Mass Customer</td>\n",
       "      <td>N</td>\n",
       "      <td>Yes</td>\n",
       "      <td>14</td>\n",
       "      <td>45 Shopko Center</td>\n",
       "      <td>4500</td>\n",
       "      <td>QLD</td>\n",
       "      <td>Australia</td>\n",
       "      <td>6</td>\n",
       "      <td>1</td>\n",
       "      <td>1.71875</td>\n",
       "      <td>65.555789</td>\n",
       "      <td>70</td>\n",
       "    </tr>\n",
       "    <tr>\n",
       "      <th>2</th>\n",
       "      <td>Morly</td>\n",
       "      <td>Genery</td>\n",
       "      <td>Male</td>\n",
       "      <td>69</td>\n",
       "      <td>1970-03-22</td>\n",
       "      <td>Structural Engineer</td>\n",
       "      <td>Property</td>\n",
       "      <td>Mass Customer</td>\n",
       "      <td>N</td>\n",
       "      <td>No</td>\n",
       "      <td>16</td>\n",
       "      <td>14 Mccormick Park</td>\n",
       "      <td>2113</td>\n",
       "      <td>NSW</td>\n",
       "      <td>Australia</td>\n",
       "      <td>11</td>\n",
       "      <td>1</td>\n",
       "      <td>1.71875</td>\n",
       "      <td>52.862852</td>\n",
       "      <td>50</td>\n",
       "    </tr>\n",
       "    <tr>\n",
       "      <th>3</th>\n",
       "      <td>Ardelis</td>\n",
       "      <td>Forrester</td>\n",
       "      <td>Female</td>\n",
       "      <td>10</td>\n",
       "      <td>1974-08-28</td>\n",
       "      <td>Senior Cost Accountant</td>\n",
       "      <td>Financial Services</td>\n",
       "      <td>Affluent Customer</td>\n",
       "      <td>N</td>\n",
       "      <td>No</td>\n",
       "      <td>10</td>\n",
       "      <td>5 Colorado Crossing</td>\n",
       "      <td>3505</td>\n",
       "      <td>VIC</td>\n",
       "      <td>Australia</td>\n",
       "      <td>5</td>\n",
       "      <td>1</td>\n",
       "      <td>1.71875</td>\n",
       "      <td>48.427443</td>\n",
       "      <td>50</td>\n",
       "    </tr>\n",
       "  </tbody>\n",
       "</table>\n",
       "</div>"
      ],
      "text/plain": [
       "0 first_name  last_name  gender past_3_years_bike_related_purchases  \\\n",
       "1    Chickie    Brister    Male                                  86   \n",
       "2      Morly     Genery    Male                                  69   \n",
       "3    Ardelis  Forrester  Female                                  10   \n",
       "\n",
       "0        DOB               job_title job_industry_category     wealth_segment  \\\n",
       "1 1957-07-12         General Manager         Manufacturing      Mass Customer   \n",
       "2 1970-03-22     Structural Engineer              Property      Mass Customer   \n",
       "3 1974-08-28  Senior Cost Accountant    Financial Services  Affluent Customer   \n",
       "\n",
       "0 deceased_indicator owns_car tenure              address postcode state  \\\n",
       "1                  N      Yes     14     45 Shopko Center     4500   QLD   \n",
       "2                  N       No     16    14 Mccormick Park     2113   NSW   \n",
       "3                  N       No     10  5 Colorado Crossing     3505   VIC   \n",
       "\n",
       "0    country property_valuation Rank    Value        age  age_group  \n",
       "1  Australia                  6    1  1.71875  65.555789         70  \n",
       "2  Australia                 11    1  1.71875  52.862852         50  \n",
       "3  Australia                  5    1  1.71875  48.427443         50  "
      ]
     },
     "execution_count": 16,
     "metadata": {},
     "output_type": "execute_result"
    }
   ],
   "source": [
    "NewCustomer.head(3)"
   ]
  },
  {
   "cell_type": "code",
   "execution_count": 20,
   "id": "6d944d13",
   "metadata": {},
   "outputs": [
    {
     "data": {
      "text/plain": [
       "<AxesSubplot:xlabel='age_group'>"
      ]
     },
     "execution_count": 20,
     "metadata": {},
     "output_type": "execute_result"
    },
    {
     "data": {
      "image/png": "[encoded data removed]",
      "text/plain": [
       "<Figure size 432x288 with 1 Axes>"
      ]
     },
     "metadata": {
      "needs_background": "light"
     },
     "output_type": "display_data"
    }
   ],
   "source": [
    "NewCustomer.groupby('age_group').agg('past_3_years_bike_related_purchases').count().to_frame().plot(kind='bar')"
   ]
  },
  {
   "cell_type": "code",
   "execution_count": 18,
   "id": "38446597",
   "metadata": {},
   "outputs": [
    {
     "data": {
      "text/plain": [
       "<AxesSubplot:xlabel='job_industry_category'>"
      ]
     },
     "execution_count": 18,
     "metadata": {},
     "output_type": "execute_result"
    },
    {
     "data": {
      "image/png": "[encoded data removed]",
      "text/plain": [
       "<Figure size 432x288 with 1 Axes>"
      ]
     },
     "metadata": {
      "needs_background": "light"
     },
     "output_type": "display_data"
    }
   ],
   "source": [
    "NewCustomer.groupby('job_industry_category').agg('past_3_years_bike_related_purchases').count() \\\n",
    "    .to_frame().plot(kind='bar')"
   ]
  },
  {
   "cell_type": "code",
   "execution_count": 27,
   "id": "9820bdf0",
   "metadata": {},
   "outputs": [
    {
     "data": {
      "text/plain": [
       "<AxesSubplot:xlabel='job_industry_category'>"
      ]
     },
     "execution_count": 27,
     "metadata": {},
     "output_type": "execute_result"
    },
    {
     "data": {
      "image/png": "[encoded data removed]",
      "text/plain": [
       "<Figure size 432x288 with 1 Axes>"
      ]
     },
     "metadata": {
      "needs_background": "light"
     },
     "output_type": "display_data"
    }
   ],
   "source": [
    "NewCustomer.groupby('job_industry_category')['gender'].value_counts().unstack(level=1).plot.bar(stacked=True)"
   ]
  },
  {
   "cell_type": "code",
   "execution_count": 21,
   "id": "5c034e13",
   "metadata": {},
   "outputs": [
    {
     "data": {
      "text/plain": [
       "<AxesSubplot:xlabel='wealth_segment'>"
      ]
     },
     "execution_count": 21,
     "metadata": {},
     "output_type": "execute_result"
    },
    {
     "data": {
      "image/png": "[encoded data removed]",
      "text/plain": [
       "<Figure size 432x288 with 1 Axes>"
      ]
     },
     "metadata": {
      "needs_background": "light"
     },
     "output_type": "display_data"
    }
   ],
   "source": [
    "NewCustomer.groupby('wealth_segment').agg('past_3_years_bike_related_purchases').count().to_frame().plot(kind='bar')"
   ]
  },
  {
   "cell_type": "code",
   "execution_count": 22,
   "id": "8c0d7c60",
   "metadata": {},
   "outputs": [
    {
     "data": {
      "text/plain": [
       "<AxesSubplot:xlabel='owns_car'>"
      ]
     },
     "execution_count": 22,
     "metadata": {},
     "output_type": "execute_result"
    },
    {
     "data": {
      "image/png": "[encoded data removed]",
      "text/plain": [
       "<Figure size 432x288 with 1 Axes>"
      ]
     },
     "metadata": {
      "needs_background": "light"
     },
     "output_type": "display_data"
    }
   ],
   "source": [
    "NewCustomer.groupby('owns_car').agg('past_3_years_bike_related_purchases').count().to_frame().plot(kind='bar')"
   ]
  },
  {
   "cell_type": "code",
   "execution_count": 23,
   "id": "f4b9aa3b",
   "metadata": {},
   "outputs": [
    {
     "data": {
      "text/plain": [
       "<AxesSubplot:xlabel='state'>"
      ]
     },
     "execution_count": 23,
     "metadata": {},
     "output_type": "execute_result"
    },
    {
     "data": {
      "image/png": "[encoded data removed]",
      "text/plain": [
       "<Figure size 432x288 with 1 Axes>"
      ]
     },
     "metadata": {
      "needs_background": "light"
     },
     "output_type": "display_data"
    }
   ],
   "source": [
    "NewCustomer.groupby('state').agg('past_3_years_bike_related_purchases').count().to_frame().plot(kind='bar')"
   ]
  },
  {
   "cell_type": "code",
   "execution_count": 24,
   "id": "0c8c1fa6",
   "metadata": {},
   "outputs": [
    {
     "data": {
      "text/plain": [
       "<AxesSubplot:xlabel='gender'>"
      ]
     },
     "execution_count": 24,
     "metadata": {},
     "output_type": "execute_result"
    },
    {
     "data": {
      "image/png": "[encoded data removed]",
      "text/plain": [
       "<Figure size 432x288 with 1 Axes>"
      ]
     },
     "metadata": {
      "needs_background": "light"
     },
     "output_type": "display_data"
    }
   ],
   "source": [
    "NewCustomer.groupby('gender').agg('past_3_years_bike_related_purchases').count().to_frame().plot(kind='bar')"
   ]
  }
 ],
 "metadata": {
  "kernelspec": {
   "display_name": "Python 3 (ipykernel)",
   "language": "python",
   "name": "python3"
  },
  "language_info": {
   "codemirror_mode": {
    "name": "ipython",
    "version": 3
   },
   "file_extension": ".py",
   "mimetype": "text/x-python",
   "name": "python",
   "nbconvert_exporter": "python",
   "pygments_lexer": "ipython3",
   "version": "3.9.7"
  }
 },
 "nbformat": 4,
 "nbformat_minor": 5
}
